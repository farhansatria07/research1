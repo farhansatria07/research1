{
 "cells": [
  {
   "cell_type": "code",
   "execution_count": 1,
   "id": "bfc0e5cd",
   "metadata": {},
   "outputs": [],
   "source": [
    "from pyspark.sql import SparkSession\n",
    "from pyspark.sql.functions import col,desc\n",
    "from pyspark.sql.types import StructType\n",
    "import pandas as pd\n",
    "import seaborn as sns\n",
    "import matplotlib.pylab as plt\n",
    "\n",
    "#Create SparkSession\n",
    "spark = SparkSession.builder.appName('SparkByExamples.com').getOrCreate()"
   ]
  },
  {
   "cell_type": "code",
   "execution_count": 2,
   "id": "040c1018",
   "metadata": {},
   "outputs": [],
   "source": [
    "df = spark.read.format(\"csv\")\\\n",
    "                    .option(\"inferSchema\",\"true\")\\\n",
    "                    .option(\"multiLine\",\"true\")\\\n",
    "                    .option(\"header\",\"true\")\\\n",
    "                    .load(\"SampleProduct.csv\")"
   ]
  },
  {
   "cell_type": "code",
   "execution_count": 3,
   "id": "904d57df",
   "metadata": {},
   "outputs": [
    {
     "name": "stdout",
     "output_type": "stream",
     "text": [
      "-RECORD 0--------------------------------------------------\n",
      " _id                                | 62e394a81bfab5651... \n",
      " BasicInfo.alias                    | case-ipad-10-2-20... \n",
      " BasicInfo.shopID                   | 192939               \n",
      " BasicInfo.Category.parent.name     | Handphone & Tablet   \n",
      " BasicInfo.Category.child.name      | Aksesoris Tablet     \n",
      " BasicInfo.Category.grandchild.name | Casing & Cover Ta... \n",
      " BasicInfo.txStats.countSold        | 0                    \n",
      " product_content.price.value        | 232002               \n",
      "-RECORD 1--------------------------------------------------\n",
      " _id                                | 62e394a81bfab5651... \n",
      " BasicInfo.alias                    | case-xiaomi-mi-pa... \n",
      " BasicInfo.shopID                   | 192939               \n",
      " BasicInfo.Category.parent.name     | Handphone & Tablet   \n",
      " BasicInfo.Category.child.name      | Aksesoris Handphone  \n",
      " BasicInfo.Category.grandchild.name | Soft Case Handphone  \n",
      " BasicInfo.txStats.countSold        | 13                   \n",
      " product_content.price.value        | 328002               \n",
      "-RECORD 2--------------------------------------------------\n",
      " _id                                | 62e394a81bfab5651... \n",
      " BasicInfo.alias                    | tempered-glass-ip... \n",
      " BasicInfo.shopID                   | 192939               \n",
      " BasicInfo.Category.parent.name     | Handphone & Tablet   \n",
      " BasicInfo.Category.child.name      | Aksesoris Tablet     \n",
      " BasicInfo.Category.grandchild.name | Screen Guard Tablet  \n",
      " BasicInfo.txStats.countSold        | 8                    \n",
      " product_content.price.value        | 159202               \n",
      "only showing top 3 rows\n",
      "\n"
     ]
    }
   ],
   "source": [
    "df.show(3,vertical=True)"
   ]
  },
  {
   "cell_type": "code",
   "execution_count": 4,
   "id": "6306bb6b",
   "metadata": {},
   "outputs": [],
   "source": [
    "df_alias = (df\n",
    "       .withColumnRenamed('BasicInfo.alias','Product_name')\n",
    "       .withColumnRenamed('BasicInfo.shopID', 'Shop_ID')\n",
    "       .withColumnRenamed('BasicInfo.Category.parent.name','Category_name')\n",
    "       .withColumnRenamed('BasicInfo.Category.child.name','SubCat_name')\n",
    "       .withColumnRenamed('BasicInfo.Category.grandchild.name','SubCat2_name')\n",
    "       .withColumnRenamed('BasicInfo.txStats.countSold','Product_sold')\n",
    "       .withColumnRenamed('product_content.price.value','Price')\n",
    "       )"
   ]
  },
  {
   "cell_type": "code",
   "execution_count": 5,
   "id": "4a07c1db",
   "metadata": {},
   "outputs": [
    {
     "data": {
      "text/plain": [
       "4356226"
      ]
     },
     "execution_count": 5,
     "metadata": {},
     "output_type": "execute_result"
    }
   ],
   "source": [
    "df_alias.count()"
   ]
  },
  {
   "cell_type": "code",
   "execution_count": 6,
   "id": "047c117d",
   "metadata": {},
   "outputs": [],
   "source": [
    "df_alias= df_alias.withColumn(\"Price\",col(\"Price\").cast(\"Integer\"))\\\n",
    "                  .withColumn(\"Product_sold\",col(\"Product_sold\").cast(\"Integer\"))"
   ]
  },
  {
   "cell_type": "code",
   "execution_count": 7,
   "id": "8ab86e09",
   "metadata": {},
   "outputs": [],
   "source": [
    "df_fix = df_alias.filter((df_alias.Product_sold > \"0\")) "
   ]
  },
  {
   "cell_type": "code",
   "execution_count": 8,
   "id": "4a883654",
   "metadata": {},
   "outputs": [
    {
     "data": {
      "text/plain": [
       "1681200"
      ]
     },
     "execution_count": 8,
     "metadata": {},
     "output_type": "execute_result"
    }
   ],
   "source": [
    "df_fix.count()"
   ]
  },
  {
   "cell_type": "code",
   "execution_count": 9,
   "id": "c75ee2e3",
   "metadata": {},
   "outputs": [
    {
     "name": "stdout",
     "output_type": "stream",
     "text": [
      "+--------------------+------+\n",
      "|       Category_name| count|\n",
      "+--------------------+------+\n",
      "|       Mainan & Hobi|163693|\n",
      "|      Fashion Wanita|119775|\n",
      "|            Otomotif|115977|\n",
      "|        Rumah Tangga|102047|\n",
      "|        Fashion Pria|101746|\n",
      "|          Elektronik| 91460|\n",
      "|  Handphone & Tablet| 89424|\n",
      "|            Olahraga| 81429|\n",
      "|          Kecantikan| 77043|\n",
      "|                Buku| 76726|\n",
      "|           Kesehatan| 72416|\n",
      "|   Komputer & Laptop| 69556|\n",
      "|               Dapur| 63043|\n",
      "|   Makanan & Minuman| 59418|\n",
      "|         Pertukangan| 58911|\n",
      "|     Perawatan Tubuh| 57380|\n",
      "|Perlengkapan Pest...| 50710|\n",
      "| Fashion Anak & Bayi| 44790|\n",
      "| Office & Stationery| 41323|\n",
      "|          Ibu & Bayi| 32280|\n",
      "|      Produk Lainnya| 22461|\n",
      "|      Fashion Muslim| 19426|\n",
      "|                null| 18931|\n",
      "|              Kamera| 16891|\n",
      "|     Perawatan Hewan| 13165|\n",
      "|        Film & Musik| 12983|\n",
      "|              Gaming|  6904|\n",
      "|         Logam Mulia|  1075|\n",
      "|       Tour & Travel|   138|\n",
      "|            Properti|    54|\n",
      "|             Wedding|    25|\n",
      "+--------------------+------+\n",
      "\n"
     ]
    }
   ],
   "source": [
    "#groupByCategory\n",
    "df2 = df_fix.groupBy(\"Category_name\")\\\n",
    "              .count()\\\n",
    "              .orderBy('count',ascending=False)\n",
    "df2.show(150)"
   ]
  },
  {
   "cell_type": "code",
   "execution_count": 10,
   "id": "688221aa",
   "metadata": {},
   "outputs": [],
   "source": [
    "import pandas as pd\n",
    "import seaborn as sns\n",
    "import matplotlib.pylab as plt"
   ]
  },
  {
   "cell_type": "code",
   "execution_count": 11,
   "id": "21d21e62",
   "metadata": {},
   "outputs": [],
   "source": [
    "dataframe = df2.toPandas()\n",
    "bar = dataframe.head(10)"
   ]
  },
  {
   "cell_type": "code",
   "execution_count": 12,
   "id": "416aad77",
   "metadata": {},
   "outputs": [],
   "source": [
    "label = bar['Category_name']"
   ]
  },
  {
   "cell_type": "code",
   "execution_count": 13,
   "id": "0a0a99ec",
   "metadata": {},
   "outputs": [
    {
     "data": {
      "image/png": "[encoded data removed]",
      "text/plain": [
       "<Figure size 640x480 with 1 Axes>"
      ]
     },
     "metadata": {},
     "output_type": "display_data"
    }
   ],
   "source": [
    "g = sns.barplot(data=bar, x=\"Category_name\", y=\"count\",palette=\"BuPu_r\")\n",
    "g.set_xticklabels(labels=label, rotation=90)\n",
    "# plt.figure(figsize=(30, 15))\n",
    "plt.show()"
   ]
  },
  {
   "cell_type": "code",
   "execution_count": 14,
   "id": "cbba4540",
   "metadata": {
    "scrolled": false
   },
   "outputs": [
    {
     "name": "stdout",
     "output_type": "stream",
     "text": [
      "-RECORD 0-----------------------------\n",
      " _id           | 62e394a81bfab5651... \n",
      " Product_name  | case-ipad-10-2-20... \n",
      " Shop_ID       | 192939               \n",
      " Category_name | Handphone & Tablet   \n",
      " SubCat_name   | Aksesoris Tablet     \n",
      " SubCat2_name  | Casing & Cover Ta... \n",
      " Product_sold  | 0                    \n",
      " Price         | 232002               \n",
      "-RECORD 1-----------------------------\n",
      " _id           | 62e394a81bfab5651... \n",
      " Product_name  | case-xiaomi-mi-pa... \n",
      " Shop_ID       | 192939               \n",
      " Category_name | Handphone & Tablet   \n",
      " SubCat_name   | Aksesoris Handphone  \n",
      " SubCat2_name  | Soft Case Handphone  \n",
      " Product_sold  | 13                   \n",
      " Price         | 328002               \n",
      "only showing top 2 rows\n",
      "\n"
     ]
    }
   ],
   "source": [
    "df_makanan = df_alias.filter((df_alias.Category_name == \"Handphone & Tablet\" )) \n",
    "df_makanan.show(2,vertical=True)"
   ]
  },
  {
   "cell_type": "code",
   "execution_count": 15,
   "id": "47bbaca9",
   "metadata": {},
   "outputs": [
    {
     "name": "stdout",
     "output_type": "stream",
     "text": [
      "+--------------------+------+\n",
      "|         SubCat_name| count|\n",
      "+--------------------+------+\n",
      "| Aksesoris Handphone|161794|\n",
      "|  Komponen Handphone| 41145|\n",
      "|           Handphone| 31326|\n",
      "|    Wearable Devices| 16014|\n",
      "|    Aksesoris Tablet| 13658|\n",
      "|          Power Bank|  6979|\n",
      "|Nomor Perdana & V...|  3597|\n",
      "|              Tablet|  2072|\n",
      "|     Komponen Tablet|   406|\n",
      "+--------------------+------+\n",
      "\n"
     ]
    }
   ],
   "source": [
    "df3 = df_makanan.groupBy(\"SubCat_name\")\\\n",
    "              .count()\\\n",
    "              .orderBy('count',ascending=False)\n",
    "df3.show(150)"
   ]
  },
  {
   "cell_type": "code",
   "execution_count": 16,
   "id": "b5cbe139",
   "metadata": {},
   "outputs": [
    {
     "name": "stdout",
     "output_type": "stream",
     "text": [
      "-RECORD 0-----------------------------\n",
      " _id           | 62e3973594c1bad1d... \n",
      " Product_name  | papan-nama-ukiran... \n",
      " Shop_ID       | 101                  \n",
      " Category_name | Pertukangan          \n",
      " SubCat_name   | Material Bangunan    \n",
      " SubCat2_name  | Kayu                 \n",
      " Product_sold  | 0                    \n",
      " Price         | 80000                \n",
      "-RECORD 1-----------------------------\n",
      " _id           | 62e3994194c1bad1d... \n",
      " Product_name  | kunci-jendela-elt... \n",
      " Shop_ID       | 587                  \n",
      " Category_name | Pertukangan          \n",
      " SubCat_name   | Material Bangunan    \n",
      " SubCat2_name  | Jendela              \n",
      " Product_sold  | 23                   \n",
      " Price         | 45000                \n",
      "-RECORD 2-----------------------------\n",
      " _id           | 62e3994494c1bad1d... \n",
      " Product_name  | engsel-hinge-elt-... \n",
      " Shop_ID       | 587                  \n",
      " Category_name | Pertukangan          \n",
      " SubCat_name   | Material Bangunan    \n",
      " SubCat2_name  | Engsel               \n",
      " Product_sold  | 10                   \n",
      " Price         | 45000                \n",
      "-RECORD 3-----------------------------\n",
      " _id           | 62e3994794c1bad1d... \n",
      " Product_name  | kunci-jendela-elt... \n",
      " Shop_ID       | 587                  \n",
      " Category_name | Pertukangan          \n",
      " SubCat_name   | Material Bangunan    \n",
      " SubCat2_name  | Jendela              \n",
      " Product_sold  | 43                   \n",
      " Price         | 51000                \n",
      "-RECORD 4-----------------------------\n",
      " _id           | 62e39a4e94c1bad1d... \n",
      " Product_name  | engsel-pintu-cant... \n",
      " Shop_ID       | 97                   \n",
      " Category_name | Pertukangan          \n",
      " SubCat_name   | Material Bangunan    \n",
      " SubCat2_name  | Engsel               \n",
      " Product_sold  | 23                   \n",
      " Price         | 175000               \n",
      "-RECORD 5-----------------------------\n",
      " _id           | 62e39a7894c1bad1d... \n",
      " Product_name  | engsel-pintu-depa... \n",
      " Shop_ID       | 97                   \n",
      " Category_name | Pertukangan          \n",
      " SubCat_name   | Material Bangunan    \n",
      " SubCat2_name  | Engsel               \n",
      " Product_sold  | 14                   \n",
      " Price         | 62000                \n",
      "-RECORD 6-----------------------------\n",
      " _id           | 62e39a7d94c1bad1d... \n",
      " Product_name  | peti-kayu-grill      \n",
      " Shop_ID       | 97                   \n",
      " Category_name | Pertukangan          \n",
      " SubCat_name   | Material Bangunan    \n",
      " SubCat2_name  | Kayu                 \n",
      " Product_sold  | 0                    \n",
      " Price         | 150000               \n",
      "-RECORD 7-----------------------------\n",
      " _id           | 62e39a7e94c1bad1d... \n",
      " Product_name  | atap-trepes          \n",
      " Shop_ID       | 97                   \n",
      " Category_name | Pertukangan          \n",
      " SubCat_name   | Material Bangunan    \n",
      " SubCat2_name  | Genteng              \n",
      " Product_sold  | 10                   \n",
      " Price         | 3350000              \n",
      "-RECORD 8-----------------------------\n",
      " _id           | 62e39a8494c1bad1d... \n",
      " Product_name  | pen-engsel-pintu-... \n",
      " Shop_ID       | 97                   \n",
      " Category_name | Pertukangan          \n",
      " SubCat_name   | Material Bangunan    \n",
      " SubCat2_name  | Engsel               \n",
      " Product_sold  | 66                   \n",
      " Price         | 10000                \n",
      "-RECORD 9-----------------------------\n",
      " _id           | 62e39b3294c1bad1d... \n",
      " Product_name  | kawat-seling-full... \n",
      " Shop_ID       | 2083                 \n",
      " Category_name | Pertukangan          \n",
      " SubCat_name   | Material Bangunan    \n",
      " SubCat2_name  | Kawat                \n",
      " Product_sold  | 0                    \n",
      " Price         | 8000                 \n",
      "-RECORD 10----------------------------\n",
      " _id           | 62e39b5a94c1bad1d... \n",
      " Product_name  | mok-yan-jong-wood... \n",
      " Shop_ID       | 1559                 \n",
      " Category_name | Pertukangan          \n",
      " SubCat_name   | Material Bangunan    \n",
      " SubCat2_name  | Kayu                 \n",
      " Product_sold  | 2                    \n",
      " Price         | 4500000              \n",
      "-RECORD 11----------------------------\n",
      " _id           | 62e39c6c94c1bad1d... \n",
      " Product_name  | handle-bak-granmax   \n",
      " Shop_ID       | 97                   \n",
      " Category_name | Pertukangan          \n",
      " SubCat_name   | Material Bangunan    \n",
      " SubCat2_name  | Gagang Pintu         \n",
      " Product_sold  | 6                    \n",
      " Price         | 35000                \n",
      "-RECORD 12----------------------------\n",
      " _id           | 62e39d1794c1bad1d... \n",
      " Product_name  | ud-08                \n",
      " Shop_ID       | 2607                 \n",
      " Category_name | Pertukangan          \n",
      " SubCat_name   | Material Bangunan    \n",
      " SubCat2_name  | Besi                 \n",
      " Product_sold  | 0                    \n",
      " Price         | 60000                \n",
      "-RECORD 13----------------------------\n",
      " _id           | 62e39d4f94c1bad1d... \n",
      " Product_name  | paku-fengshui-ema... \n",
      " Shop_ID       | 2043                 \n",
      " Category_name | Pertukangan          \n",
      " SubCat_name   | Material Bangunan    \n",
      " SubCat2_name  | Paku                 \n",
      " Product_sold  | 7                    \n",
      " Price         | 575000               \n",
      "-RECORD 14----------------------------\n",
      " _id           | 62e39eb594c1bad1d... \n",
      " Product_name  | kunci-slot-kunci-... \n",
      " Shop_ID       | 226                  \n",
      " Category_name | Pertukangan          \n",
      " SubCat_name   | Material Bangunan    \n",
      " SubCat2_name  | Gagang Pintu         \n",
      " Product_sold  | 3                    \n",
      " Price         | 14300                \n",
      "-RECORD 15----------------------------\n",
      " _id           | 62e39f5394c1bad1d... \n",
      " Product_name  | kunci-pintu-bulat... \n",
      " Shop_ID       | 226                  \n",
      " Category_name | Pertukangan          \n",
      " SubCat_name   | Material Bangunan    \n",
      " SubCat2_name  | Gagang Pintu         \n",
      " Product_sold  | 0                    \n",
      " Price         | 88000                \n",
      "-RECORD 16----------------------------\n",
      " _id           | 62e39f5594c1bad1d... \n",
      " Product_name  | yo-zuri-cylinder-... \n",
      " Shop_ID       | 1563                 \n",
      " Category_name | Pertukangan          \n",
      " SubCat_name   | Material Bangunan    \n",
      " SubCat2_name  | Gagang Pintu         \n",
      " Product_sold  | 0                    \n",
      " Price         | 29000                \n",
      "-RECORD 17----------------------------\n",
      " _id           | 62e39fa094c1bad1d... \n",
      " Product_name  | camel-grendel-3-i... \n",
      " Shop_ID       | 1563                 \n",
      " Category_name | Pertukangan          \n",
      " SubCat_name   | Material Bangunan    \n",
      " SubCat2_name  | Grendel              \n",
      " Product_sold  | 144                  \n",
      " Price         | 6600                 \n",
      "-RECORD 18----------------------------\n",
      " _id           | 62e39fd394c1bad1d... \n",
      " Product_name  | camel-grendel-2-i... \n",
      " Shop_ID       | 1563                 \n",
      " Category_name | Pertukangan          \n",
      " SubCat_name   | Material Bangunan    \n",
      " SubCat2_name  | Grendel              \n",
      " Product_sold  | 214                  \n",
      " Price         | 5200                 \n",
      "-RECORD 19----------------------------\n",
      " _id           | 62e3a04794c1bad1d... \n",
      " Product_name  | zanetto-kunci-pin... \n",
      " Shop_ID       | 1563                 \n",
      " Category_name | Pertukangan          \n",
      " SubCat_name   | Material Bangunan    \n",
      " SubCat2_name  | Gagang Pintu         \n",
      " Product_sold  | 45                   \n",
      " Price         | 39200                \n",
      "-RECORD 20----------------------------\n",
      " _id           | 62e3a05094c1bad1d... \n",
      " Product_name  | yale-euro-profile... \n",
      " Shop_ID       | 1563                 \n",
      " Category_name | Pertukangan          \n",
      " SubCat_name   | Material Bangunan    \n",
      " SubCat2_name  | Gagang Pintu         \n",
      " Product_sold  | 3                    \n",
      " Price         | 92500                \n",
      "-RECORD 21----------------------------\n",
      " _id           | 62e3a05994c1bad1d... \n",
      " Product_name  | serbuk-besi-pasir... \n",
      " Shop_ID       | 2860                 \n",
      " Category_name | Pertukangan          \n",
      " SubCat_name   | Material Bangunan    \n",
      " SubCat2_name  | Pasir                \n",
      " Product_sold  | 1087                 \n",
      " Price         | 15000                \n",
      "-RECORD 22----------------------------\n",
      " _id           | 62e3a06794c1bad1d... \n",
      " Product_name  | yale-vca5122-us32... \n",
      " Shop_ID       | 1563                 \n",
      " Category_name | Pertukangan          \n",
      " SubCat_name   | Material Bangunan    \n",
      " SubCat2_name  | Gagang Pintu         \n",
      " Product_sold  | 31                   \n",
      " Price         | 153500               \n",
      "-RECORD 23----------------------------\n",
      " _id           | 62e3a07594c1bad1d... \n",
      " Product_name  | hl-alat-kop-kaca-... \n",
      " Shop_ID       | 1563                 \n",
      " Category_name | Pertukangan          \n",
      " SubCat_name   | Material Bangunan    \n",
      " SubCat2_name  | Kaca                 \n",
      " Product_sold  | 34                   \n",
      " Price         | 136500               \n",
      "-RECORD 24----------------------------\n",
      " _id           | 62e3a07694c1bad1d... \n",
      " Product_name  | pasir-hitam-pasir... \n",
      " Shop_ID       | 2860                 \n",
      " Category_name | Pertukangan          \n",
      " SubCat_name   | Material Bangunan    \n",
      " SubCat2_name  | Pasir                \n",
      " Product_sold  | 16                   \n",
      " Price         | 15000                \n",
      "-RECORD 25----------------------------\n",
      " _id           | 62e3a07794c1bad1d... \n",
      " Product_name  | pasir-magnet-pasi... \n",
      " Shop_ID       | 2860                 \n",
      " Category_name | Pertukangan          \n",
      " SubCat_name   | Material Bangunan    \n",
      " SubCat2_name  | Pasir                \n",
      " Product_sold  | 24                   \n",
      " Price         | 15000                \n",
      "-RECORD 26----------------------------\n",
      " _id           | 62e3a0b894c1bad1d... \n",
      " Product_name  | devcon-a10110-pla... \n",
      " Shop_ID       | 1563                 \n",
      " Category_name | Pertukangan          \n",
      " SubCat_name   | Material Bangunan    \n",
      " SubCat2_name  | Kaca                 \n",
      " Product_sold  | 10                   \n",
      " Price         | 385000               \n",
      "-RECORD 27----------------------------\n",
      " _id           | 62e3a0bd94c1bad1d... \n",
      " Product_name  | camel-gunting-hol... \n",
      " Shop_ID       | 1563                 \n",
      " Category_name | Pertukangan          \n",
      " SubCat_name   | Material Bangunan    \n",
      " SubCat2_name  | Baja                 \n",
      " Product_sold  | 472                  \n",
      " Price         | 34500                \n",
      "-RECORD 28----------------------------\n",
      " _id           | 62e3a13794c1bad1d... \n",
      " Product_name  | pasir-besi-pasir-... \n",
      " Shop_ID       | 2860                 \n",
      " Category_name | Pertukangan          \n",
      " SubCat_name   | Material Bangunan    \n",
      " SubCat2_name  | Pasir                \n",
      " Product_sold  | 69                   \n",
      " Price         | 15000                \n",
      "-RECORD 29----------------------------\n",
      " _id           | 62e3a14494c1bad1d... \n",
      " Product_name  | kenmaster-accesso... \n",
      " Shop_ID       | 1563                 \n",
      " Category_name | Pertukangan          \n",
      " SubCat_name   | Material Bangunan    \n",
      " SubCat2_name  | Paku                 \n",
      " Product_sold  | 122                  \n",
      " Price         | 20000                \n",
      "only showing top 30 rows\n",
      "\n"
     ]
    }
   ],
   "source": [
    "df_submakanan = df_alias.filter((df_alias.SubCat_name == \"Material Bangunan\")) \n",
    "df_submakanan.show(30,vertical=True)"
   ]
  },
  {
   "cell_type": "code",
   "execution_count": 17,
   "id": "250739a6",
   "metadata": {},
   "outputs": [
    {
     "name": "stdout",
     "output_type": "stream",
     "text": [
      "+------------+-----+\n",
      "|SubCat2_name|count|\n",
      "+------------+-----+\n",
      "|Gagang Pintu| 6137|\n",
      "|      Engsel| 1048|\n",
      "|     Grendel|  813|\n",
      "|       Kawat|  547|\n",
      "|        Paku|  448|\n",
      "|        Besi|  413|\n",
      "|        Kayu|  380|\n",
      "|        Kaca|  350|\n",
      "| Kusen Pintu|  325|\n",
      "|      Granit|  290|\n",
      "|     Jendela|  225|\n",
      "|        Batu|  217|\n",
      "|        Baja|  195|\n",
      "| Lantai Kayu|  168|\n",
      "|       Tanah|  168|\n",
      "|      Batako|   78|\n",
      "|       Pasir|   72|\n",
      "|       Beton|   56|\n",
      "|     Genteng|   54|\n",
      "|       Semen|   44|\n",
      "+------------+-----+\n",
      "only showing top 20 rows\n",
      "\n"
     ]
    }
   ],
   "source": [
    "df4 = df_submakanan.groupBy(\"SubCat2_name\")\\\n",
    "              .count()\\\n",
    "              .orderBy('count',ascending=False)\n",
    "df4.show()"
   ]
  },
  {
   "cell_type": "code",
   "execution_count": 18,
   "id": "d502d58a",
   "metadata": {},
   "outputs": [
    {
     "name": "stdout",
     "output_type": "stream",
     "text": [
      "-RECORD 0-----------------------------\n",
      " _id           | 62e39cc094c1bad1d... \n",
      " Product_name  | semprotan-air-1-l... \n",
      " Shop_ID       | 2844                 \n",
      " Category_name | Pertukangan          \n",
      " SubCat_name   | Alat Perkebunan      \n",
      " SubCat2_name  | Alat Semprot Hama    \n",
      " Product_sold  | 0                    \n",
      " Price         | 12500                \n",
      "-RECORD 1-----------------------------\n",
      " _id           | 62e39fb294c1bad1d... \n",
      " Product_name  | hl-bottle-sprayer... \n",
      " Shop_ID       | 1563                 \n",
      " Category_name | Pertukangan          \n",
      " SubCat_name   | Alat Perkebunan      \n",
      " SubCat2_name  | Alat Semprot Hama    \n",
      " Product_sold  | 2819                 \n",
      " Price         | 29500                \n",
      "-RECORD 2-----------------------------\n",
      " _id           | 62e39fd894c1bad1d... \n",
      " Product_name  | kenmaster-km-305-... \n",
      " Shop_ID       | 1563                 \n",
      " Category_name | Pertukangan          \n",
      " SubCat_name   | Alat Perkebunan      \n",
      " SubCat2_name  | Alat Semprot Hama    \n",
      " Product_sold  | 432                  \n",
      " Price         | 8700                 \n",
      "-RECORD 3-----------------------------\n",
      " _id           | 62e39fde94c1bad1d... \n",
      " Product_name  | fogging-disinfect... \n",
      " Shop_ID       | 1563                 \n",
      " Category_name | Pertukangan          \n",
      " SubCat_name   | Alat Perkebunan      \n",
      " SubCat2_name  | Mesin Fogging        \n",
      " Product_sold  | 7                    \n",
      " Price         | 76000                \n",
      "-RECORD 4-----------------------------\n",
      " _id           | 62e39fe394c1bad1d... \n",
      " Product_name  | kenmaster-km-505-... \n",
      " Shop_ID       | 1563                 \n",
      " Category_name | Pertukangan          \n",
      " SubCat_name   | Alat Perkebunan      \n",
      " SubCat2_name  | Alat Semprot Hama    \n",
      " Product_sold  | 25                   \n",
      " Price         | 141000               \n",
      "only showing top 5 rows\n",
      "\n"
     ]
    }
   ],
   "source": [
    "df_label = df_alias.filter((df_alias.SubCat_name == \"Alat Perkebunan\")) \n",
    "df_label.show(5,vertical=True)"
   ]
  },
  {
   "cell_type": "code",
   "execution_count": 19,
   "id": "80ae819e",
   "metadata": {},
   "outputs": [
    {
     "ename": "AnalysisException",
     "evalue": "path file:/E:/SKRIPSI/Label/44Kebun.csv already exists.",
     "output_type": "error",
     "traceback": [
      "\u001b[1;31m---------------------------------------------------------------------------\u001b[0m",
      "\u001b[1;31mAnalysisException\u001b[0m                         Traceback (most recent call last)",
      "\u001b[1;32m~\\AppData\\Local\\Temp\\ipykernel_9732\\2833558859.py\u001b[0m in \u001b[0;36m<module>\u001b[1;34m\u001b[0m\n\u001b[1;32m----> 1\u001b[1;33m \u001b[0mdf_label\u001b[0m\u001b[1;33m.\u001b[0m\u001b[0mwrite\u001b[0m\u001b[1;33m.\u001b[0m\u001b[0moptions\u001b[0m\u001b[1;33m(\u001b[0m\u001b[0mheader\u001b[0m\u001b[1;33m=\u001b[0m\u001b[1;34m'True'\u001b[0m\u001b[1;33m,\u001b[0m \u001b[0mdelimiter\u001b[0m\u001b[1;33m=\u001b[0m\u001b[1;34m','\u001b[0m\u001b[1;33m)\u001b[0m\u001b[0;31m \u001b[0m\u001b[0;31m\\\u001b[0m\u001b[1;33m\u001b[0m\u001b[1;33m\u001b[0m\u001b[0m\n\u001b[0m\u001b[0;32m      2\u001b[0m  \u001b[1;33m.\u001b[0m\u001b[0mcsv\u001b[0m\u001b[1;33m(\u001b[0m\u001b[1;34m\"E:/SKRIPSI/Label/44Kebun.csv\"\u001b[0m\u001b[1;33m)\u001b[0m\u001b[1;33m\u001b[0m\u001b[1;33m\u001b[0m\u001b[0m\n",
      "\u001b[1;32m~\\anaconda3\\lib\\site-packages\\pyspark\\sql\\readwriter.py\u001b[0m in \u001b[0;36mcsv\u001b[1;34m(self, path, mode, compression, sep, quote, escape, header, nullValue, escapeQuotes, quoteAll, dateFormat, timestampFormat, ignoreLeadingWhiteSpace, ignoreTrailingWhiteSpace, charToEscapeQuoteEscaping, encoding, emptyValue, lineSep)\u001b[0m\n\u001b[0;32m   1238\u001b[0m             \u001b[0mlineSep\u001b[0m\u001b[1;33m=\u001b[0m\u001b[0mlineSep\u001b[0m\u001b[1;33m,\u001b[0m\u001b[1;33m\u001b[0m\u001b[1;33m\u001b[0m\u001b[0m\n\u001b[0;32m   1239\u001b[0m         )\n\u001b[1;32m-> 1240\u001b[1;33m         \u001b[0mself\u001b[0m\u001b[1;33m.\u001b[0m\u001b[0m_jwrite\u001b[0m\u001b[1;33m.\u001b[0m\u001b[0mcsv\u001b[0m\u001b[1;33m(\u001b[0m\u001b[0mpath\u001b[0m\u001b[1;33m)\u001b[0m\u001b[1;33m\u001b[0m\u001b[1;33m\u001b[0m\u001b[0m\n\u001b[0m\u001b[0;32m   1241\u001b[0m \u001b[1;33m\u001b[0m\u001b[0m\n\u001b[0;32m   1242\u001b[0m     def orc(\n",
      "\u001b[1;32m~\\anaconda3\\lib\\site-packages\\py4j\\java_gateway.py\u001b[0m in \u001b[0;36m__call__\u001b[1;34m(self, *args)\u001b[0m\n\u001b[0;32m   1319\u001b[0m \u001b[1;33m\u001b[0m\u001b[0m\n\u001b[0;32m   1320\u001b[0m         \u001b[0manswer\u001b[0m \u001b[1;33m=\u001b[0m \u001b[0mself\u001b[0m\u001b[1;33m.\u001b[0m\u001b[0mgateway_client\u001b[0m\u001b[1;33m.\u001b[0m\u001b[0msend_command\u001b[0m\u001b[1;33m(\u001b[0m\u001b[0mcommand\u001b[0m\u001b[1;33m)\u001b[0m\u001b[1;33m\u001b[0m\u001b[1;33m\u001b[0m\u001b[0m\n\u001b[1;32m-> 1321\u001b[1;33m         return_value = get_return_value(\n\u001b[0m\u001b[0;32m   1322\u001b[0m             answer, self.gateway_client, self.target_id, self.name)\n\u001b[0;32m   1323\u001b[0m \u001b[1;33m\u001b[0m\u001b[0m\n",
      "\u001b[1;32m~\\anaconda3\\lib\\site-packages\\pyspark\\sql\\utils.py\u001b[0m in \u001b[0;36mdeco\u001b[1;34m(*a, **kw)\u001b[0m\n\u001b[0;32m    194\u001b[0m                 \u001b[1;31m# Hide where the exception came from that shows a non-Pythonic\u001b[0m\u001b[1;33m\u001b[0m\u001b[1;33m\u001b[0m\u001b[0m\n\u001b[0;32m    195\u001b[0m                 \u001b[1;31m# JVM exception message.\u001b[0m\u001b[1;33m\u001b[0m\u001b[1;33m\u001b[0m\u001b[0m\n\u001b[1;32m--> 196\u001b[1;33m                 \u001b[1;32mraise\u001b[0m \u001b[0mconverted\u001b[0m \u001b[1;32mfrom\u001b[0m \u001b[1;32mNone\u001b[0m\u001b[1;33m\u001b[0m\u001b[1;33m\u001b[0m\u001b[0m\n\u001b[0m\u001b[0;32m    197\u001b[0m             \u001b[1;32melse\u001b[0m\u001b[1;33m:\u001b[0m\u001b[1;33m\u001b[0m\u001b[1;33m\u001b[0m\u001b[0m\n\u001b[0;32m    198\u001b[0m                 \u001b[1;32mraise\u001b[0m\u001b[1;33m\u001b[0m\u001b[1;33m\u001b[0m\u001b[0m\n",
      "\u001b[1;31mAnalysisException\u001b[0m: path file:/E:/SKRIPSI/Label/44Kebun.csv already exists."
     ]
    }
   ],
   "source": [
    "df_label.write.options(header='True', delimiter=',') \\\n",
    " .csv(\"E:/SKRIPSI/Label/44Kebun.csv\")"
   ]
  },
  {
   "cell_type": "code",
   "execution_count": null,
   "id": "635013de",
   "metadata": {},
   "outputs": [],
   "source": [
    "cek = df_alias.filter((df_alias.Product_name).contains(\"kalkulator\"))\n",
    "cek.show(30,vertical=True)"
   ]
  },
  {
   "cell_type": "code",
   "execution_count": null,
   "id": "55fa3bdf",
   "metadata": {},
   "outputs": [],
   "source": []
  }
 ],
 "metadata": {
  "kernelspec": {
   "display_name": "Python 3 (ipykernel)",
   "language": "python",
   "name": "python3"
  },
  "language_info": {
   "codemirror_mode": {
    "name": "ipython",
    "version": 3
   },
   "file_extension": ".py",
   "mimetype": "text/x-python",
   "name": "python",
   "nbconvert_exporter": "python",
   "pygments_lexer": "ipython3",
   "version": "3.9.13"
  }
 },
 "nbformat": 4,
 "nbformat_minor": 5
}

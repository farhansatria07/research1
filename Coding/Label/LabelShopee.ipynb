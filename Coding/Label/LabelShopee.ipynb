{
 "cells": [
  {
   "cell_type": "code",
   "execution_count": 1,
   "id": "bfc0e5cd",
   "metadata": {},
   "outputs": [],
   "source": [
    "from pyspark.sql import SparkSession\n",
    "from pyspark.sql.functions import col,desc\n",
    "from pyspark.sql.types import StructType\n",
    "import pandas as pd\n",
    "import seaborn as sns\n",
    "import matplotlib.pylab as plt\n",
    "\n",
    "#Create SparkSession\n",
    "spark = SparkSession.builder.appName('SparkByExamples.com').getOrCreate()"
   ]
  },
  {
   "cell_type": "code",
   "execution_count": 2,
   "id": "040c1018",
   "metadata": {},
   "outputs": [],
   "source": [
    "df = spark.read.format(\"csv\")\\\n",
    "                    .option(\"inferSchema\",\"true\")\\\n",
    "                    .option(\"multiLine\",\"true\")\\\n",
    "                    .option(\"sep\",\";\")\\\n",
    "                    .option(\"header\",\"true\")\\\n",
    "                    .load(\"Shopee1.csv\")"
   ]
  },
  {
   "cell_type": "code",
   "execution_count": 3,
   "id": "904d57df",
   "metadata": {},
   "outputs": [
    {
     "name": "stdout",
     "output_type": "stream",
     "text": [
      "-RECORD 0----------------------------\n",
      " item_id      | 68258144680          \n",
      " name         | abon tongkol | ab... \n",
      " cat_name     | makanan & minuman    \n",
      " sub_name     | makanan siap saji    \n",
      " sub_sub_name | makanan siap saji    \n",
      " sold         | 0                    \n",
      " hist_sold    | 10                   \n",
      "-RECORD 1----------------------------\n",
      " item_id      | 3927936030           \n",
      " name         | ready stock! abon... \n",
      " cat_name     | makanan & minuman    \n",
      " sub_name     | makanan siap saji    \n",
      " sub_sub_name | makanan siap saji    \n",
      " sold         | 130                  \n",
      " hist_sold    | 690                  \n",
      "-RECORD 2----------------------------\n",
      " item_id      | 59170872280          \n",
      " name         | ready jkt! abon s... \n",
      " cat_name     | makanan & minuman    \n",
      " sub_name     | makanan siap saji    \n",
      " sub_sub_name | makanan siap saji    \n",
      " sold         | 1710                 \n",
      " hist_sold    | 9500                 \n",
      "only showing top 3 rows\n",
      "\n"
     ]
    }
   ],
   "source": [
    "df.show(3, vertical=True)"
   ]
  },
  {
   "cell_type": "code",
   "execution_count": 4,
   "id": "4a07c1db",
   "metadata": {},
   "outputs": [
    {
     "data": {
      "text/plain": [
       "228726"
      ]
     },
     "execution_count": 4,
     "metadata": {},
     "output_type": "execute_result"
    }
   ],
   "source": [
    "df.count()"
   ]
  },
  {
   "cell_type": "code",
   "execution_count": 5,
   "id": "8ab86e09",
   "metadata": {},
   "outputs": [],
   "source": [
    "df_fix = df.filter((df.sold> \"0\")) "
   ]
  },
  {
   "cell_type": "code",
   "execution_count": 6,
   "id": "4a883654",
   "metadata": {},
   "outputs": [
    {
     "data": {
      "text/plain": [
       "172216"
      ]
     },
     "execution_count": 6,
     "metadata": {},
     "output_type": "execute_result"
    }
   ],
   "source": [
    "df_fix.count()"
   ]
  },
  {
   "cell_type": "code",
   "execution_count": 7,
   "id": "37147719",
   "metadata": {},
   "outputs": [],
   "source": [
    "df_fix = (df.withColumnRenamed('Cat_name','Category_name'))"
   ]
  },
  {
   "cell_type": "code",
   "execution_count": 8,
   "id": "c75ee2e3",
   "metadata": {},
   "outputs": [
    {
     "name": "stdout",
     "output_type": "stream",
     "text": [
      "+--------------------+-----+\n",
      "|       Category_name|count|\n",
      "+--------------------+-----+\n",
      "|  perlengkapan rumah|40441|\n",
      "|   makanan & minuman|40069|\n",
      "|perawatan & kecan...|22085|\n",
      "|      hobi & koleksi|17464|\n",
      "|          elektronik|15805|\n",
      "|          tas wanita|10312|\n",
      "|      pakaian wanita| 8813|\n",
      "|  olahraga & outdoor| 8590|\n",
      "|           kesehatan| 8480|\n",
      "|         sepatu pria| 8333|\n",
      "|            otomotif| 6360|\n",
      "| fashion bayi & anak| 6113|\n",
      "|          ibu & bayi| 5854|\n",
      "|   aksesoris fashion| 5558|\n",
      "|        pakaian pria| 4870|\n",
      "|      fashion muslim| 4763|\n",
      "|   buku & alat tulis| 3498|\n",
      "|       sepatu wanita| 2520|\n",
      "|handphone & akses...| 1972|\n",
      "|            tas pria| 1841|\n",
      "|    souvenir & pesta| 1104|\n",
      "|komputer & aksesoris| 1072|\n",
      "|         serba serbi|  944|\n",
      "|          jam tangan|  852|\n",
      "|           fotografi|  748|\n",
      "|                null|  239|\n",
      "|             voucher|   25|\n",
      "|                 set|    1|\n",
      "+--------------------+-----+\n",
      "\n"
     ]
    }
   ],
   "source": [
    "#groupByCategory\n",
    "df2 = df_fix.groupBy(\"Category_name\")\\\n",
    "              .count()\\\n",
    "              .orderBy('count',ascending=False)\n",
    "df2.show(150)"
   ]
  },
  {
   "cell_type": "code",
   "execution_count": 9,
   "id": "688221aa",
   "metadata": {},
   "outputs": [],
   "source": [
    "import pandas as pd\n",
    "import seaborn as sns\n",
    "import matplotlib.pylab as plt"
   ]
  },
  {
   "cell_type": "code",
   "execution_count": 10,
   "id": "21d21e62",
   "metadata": {},
   "outputs": [],
   "source": [
    "dataframe = df2.toPandas()\n",
    "bar = dataframe.head(10)"
   ]
  },
  {
   "cell_type": "code",
   "execution_count": 11,
   "id": "416aad77",
   "metadata": {},
   "outputs": [],
   "source": [
    "label = bar['Category_name']"
   ]
  },
  {
   "cell_type": "code",
   "execution_count": 12,
   "id": "0a0a99ec",
   "metadata": {},
   "outputs": [
    {
     "data": {
      "image/png": "[encoded data removed]",
      "text/plain": [
       "<Figure size 640x480 with 1 Axes>"
      ]
     },
     "metadata": {},
     "output_type": "display_data"
    }
   ],
   "source": [
    "g = sns.barplot(data=bar, x=\"Category_name\", y=\"count\",palette=\"BuPu_r\")\n",
    "g.set_xticklabels(labels=label, rotation=90)\n",
    "# plt.figure(figsize=(30, 15))\n",
    "plt.show()"
   ]
  },
  {
   "cell_type": "code",
   "execution_count": 13,
   "id": "cbba4540",
   "metadata": {
    "scrolled": false
   },
   "outputs": [
    {
     "name": "stdout",
     "output_type": "stream",
     "text": [
      "-RECORD 0----------------------------\n",
      " item_id      | 68258144680          \n",
      " name         | abon tongkol | ab... \n",
      " cat_name     | makanan & minuman    \n",
      " sub_name     | makanan siap saji    \n",
      " sub_sub_name | makanan siap saji    \n",
      " sold         | 0                    \n",
      " hist_sold    | 10                   \n",
      "-RECORD 1----------------------------\n",
      " item_id      | 3927936030           \n",
      " name         | ready stock! abon... \n",
      " cat_name     | makanan & minuman    \n",
      " sub_name     | makanan siap saji    \n",
      " sub_sub_name | makanan siap saji    \n",
      " sold         | 130                  \n",
      " hist_sold    | 690                  \n",
      "only showing top 2 rows\n",
      "\n"
     ]
    }
   ],
   "source": [
    "df_makanan = df.filter((df.Category_name == \"makanan & minuman\" )) \n",
    "df_makanan.show(2,vertical=True)"
   ]
  },
  {
   "cell_type": "code",
   "execution_count": 14,
   "id": "47bbaca9",
   "metadata": {},
   "outputs": [
    {
     "name": "stdout",
     "output_type": "stream",
     "text": [
      "+--------------------+-----+\n",
      "|            sub_name|count|\n",
      "+--------------------+-----+\n",
      "|      makanan ringan|10872|\n",
      "|         bahan pokok| 7974|\n",
      "|       makanan segar| 3954|\n",
      "|      makanan instan| 3615|\n",
      "|             minuman| 3132|\n",
      "|makanan & minuman...| 2609|\n",
      "|        makanan beku| 2600|\n",
      "|   makanan siap saji| 1697|\n",
      "|          roti & kue| 1375|\n",
      "|    cokelat & permen|  885|\n",
      "|        menu sarapan|  554|\n",
      "|      makanan kaleng|  387|\n",
      "|       susu & olahan|  324|\n",
      "|      kecap & sambal|   33|\n",
      "|      bumbu & rempah|   20|\n",
      "|               garam|   16|\n",
      "|       penyedap rasa|    6|\n",
      "|             lainnya|    4|\n",
      "|   bahan kue lainnya|    3|\n",
      "|      tepung premiks|    2|\n",
      "|                 nan|    2|\n",
      "|             pemanis|    2|\n",
      "|baking powder & soda|    1|\n",
      "|              merica|    1|\n",
      "|               kaldu|    1|\n",
      "+--------------------+-----+\n",
      "\n"
     ]
    }
   ],
   "source": [
    "df3 = df_makanan.groupBy(\"sub_name\")\\\n",
    "              .count()\\\n",
    "              .orderBy('count',ascending=False)\n",
    "df3.show(150)"
   ]
  },
  {
   "cell_type": "code",
   "execution_count": 15,
   "id": "b5cbe139",
   "metadata": {},
   "outputs": [
    {
     "name": "stdout",
     "output_type": "stream",
     "text": [
      "-RECORD 0----------------------------\n",
      " item_id      | 15799406280          \n",
      " name         | susu kacang kedele   \n",
      " cat_name     | makanan & minuman    \n",
      " sub_name     | makanan ringan       \n",
      " sub_sub_name | kacang               \n",
      " sold         | 0                    \n",
      " hist_sold    | 70                   \n",
      "-RECORD 1----------------------------\n",
      " item_id      | 44328271320          \n",
      " name         | keripik pare         \n",
      " cat_name     | makanan & minuman    \n",
      " sub_name     | makanan ringan       \n",
      " sub_sub_name | makanan ringan la... \n",
      " sold         | 170                  \n",
      " hist_sold    | 170                  \n",
      "-RECORD 2----------------------------\n",
      " item_id      | 38044525730          \n",
      " name         | garuda kcg snack ... \n",
      " cat_name     | makanan & minuman    \n",
      " sub_name     | makanan ringan       \n",
      " sub_sub_name | kacang               \n",
      " sold         | 0                    \n",
      " hist_sold    | 200                  \n",
      "-RECORD 3----------------------------\n",
      " item_id      | 24035394780          \n",
      " name         | khusus reseller (... \n",
      " cat_name     | makanan & minuman    \n",
      " sub_name     | makanan ringan       \n",
      " sub_sub_name | makanan ringan la... \n",
      " sold         | 0                    \n",
      " hist_sold    | 50                   \n",
      "-RECORD 4----------------------------\n",
      " item_id      | 10417764440          \n",
      " name         | tempe orek kriuk ... \n",
      " cat_name     | makanan & minuman    \n",
      " sub_name     | makanan ringan       \n",
      " sub_sub_name | kacang               \n",
      " sold         | 0                    \n",
      " hist_sold    | 110                  \n",
      "-RECORD 5----------------------------\n",
      " item_id      | 9998845810           \n",
      " name         | promo lebaran kac... \n",
      " cat_name     | makanan & minuman    \n",
      " sub_name     | makanan ringan       \n",
      " sub_sub_name | kacang               \n",
      " sold         | 0                    \n",
      " hist_sold    | 30                   \n",
      "-RECORD 6----------------------------\n",
      " item_id      | 79012702530          \n",
      " name         | tempe gila           \n",
      " cat_name     | makanan & minuman    \n",
      " sub_name     | makanan ringan       \n",
      " sub_sub_name | makanan ringan la... \n",
      " sold         | 40                   \n",
      " hist_sold    | 30                   \n",
      "-RECORD 7----------------------------\n",
      " item_id      | 59168930490          \n",
      " name         | natural roasted a... \n",
      " cat_name     | makanan & minuman    \n",
      " sub_name     | makanan ringan       \n",
      " sub_sub_name | kacang               \n",
      " sold         | 100                  \n",
      " hist_sold    | 100                  \n",
      "-RECORD 8----------------------------\n",
      " item_id      | 16441885000          \n",
      " name         | kacang panjang or... \n",
      " cat_name     | makanan & minuman    \n",
      " sub_name     | makanan ringan       \n",
      " sub_sub_name | kacang               \n",
      " sold         | 150                  \n",
      " hist_sold    | 1160                 \n",
      "-RECORD 9----------------------------\n",
      " item_id      | 20489603340          \n",
      " name         | emping mping mani... \n",
      " cat_name     | makanan & minuman    \n",
      " sub_name     | makanan ringan       \n",
      " sub_sub_name | biji-bijian          \n",
      " sold         | 0                    \n",
      " hist_sold    | 40                   \n",
      "-RECORD 10---------------------------\n",
      " item_id      | 25783078380          \n",
      " name         | kering tempe teri... \n",
      " cat_name     | makanan & minuman    \n",
      " sub_name     | makanan ringan       \n",
      " sub_sub_name | makanan ringan la... \n",
      " sold         | 80                   \n",
      " hist_sold    | 250                  \n",
      "-RECORD 11---------------------------\n",
      " item_id      | 21942799280          \n",
      " name         | manisan pepaya ga... \n",
      " cat_name     | makanan & minuman    \n",
      " sub_name     | makanan ringan       \n",
      " sub_sub_name | buah kering          \n",
      " sold         | 140                  \n",
      " hist_sold    | 640                  \n",
      "-RECORD 12---------------------------\n",
      " item_id      | 27897115360          \n",
      " name         | kripik pare khas ... \n",
      " cat_name     | makanan & minuman    \n",
      " sub_name     | makanan ringan       \n",
      " sub_sub_name | makanan ringan la... \n",
      " sold         | 110                  \n",
      " hist_sold    | 210                  \n",
      "-RECORD 13---------------------------\n",
      " item_id      | 55346729980          \n",
      " name         | kering tempe super   \n",
      " cat_name     | makanan & minuman    \n",
      " sub_name     | makanan ringan       \n",
      " sub_sub_name | makanan ringan ma... \n",
      " sold         | 40                   \n",
      " hist_sold    | 40                   \n",
      "-RECORD 14---------------------------\n",
      " item_id      | 176904130            \n",
      " name         | emping / keripik ... \n",
      " cat_name     | makanan & minuman    \n",
      " sub_name     | makanan ringan       \n",
      " sub_sub_name | makanan ringan       \n",
      " sold         | 30                   \n",
      " hist_sold    | 310                  \n",
      "-RECORD 15---------------------------\n",
      " item_id      | 46936030             \n",
      " name         | keripik pare / kr... \n",
      " cat_name     | makanan & minuman    \n",
      " sub_name     | makanan ringan       \n",
      " sub_sub_name | kacang               \n",
      " sold         | 100                  \n",
      " hist_sold    | 2990                 \n",
      "-RECORD 16---------------------------\n",
      " item_id      | 37244604730          \n",
      " name         | kering tempe orek... \n",
      " cat_name     | makanan & minuman    \n",
      " sub_name     | makanan ringan       \n",
      " sub_sub_name | makanan ringan la... \n",
      " sold         | 40                   \n",
      " hist_sold    | 80                   \n",
      "-RECORD 17---------------------------\n",
      " item_id      | 11877727100          \n",
      " name         | kacang mede  mata... \n",
      " cat_name     | makanan & minuman    \n",
      " sub_name     | makanan ringan       \n",
      " sub_sub_name | kacang               \n",
      " sold         | 25700                \n",
      " hist_sold    | 123300               \n",
      "-RECORD 18---------------------------\n",
      " item_id      | 79040150190          \n",
      " name         | murah meriah !! k... \n",
      " cat_name     | makanan & minuman    \n",
      " sub_name     | makanan ringan       \n",
      " sub_sub_name | makanan ringan la... \n",
      " sold         | 20                   \n",
      " hist_sold    | 50                   \n",
      "-RECORD 19---------------------------\n",
      " item_id      | 70232835860          \n",
      " name         | walnut roasted ca... \n",
      " cat_name     | makanan & minuman    \n",
      " sub_name     | makanan ringan       \n",
      " sub_sub_name | kacang               \n",
      " sold         | 990                  \n",
      " hist_sold    | 1240                 \n",
      "-RECORD 20---------------------------\n",
      " item_id      | 56332516130          \n",
      " name         | donat unyil hampers  \n",
      " cat_name     | makanan & minuman    \n",
      " sub_name     | makanan ringan       \n",
      " sub_sub_name | makanan ringan ma... \n",
      " sold         | 330                  \n",
      " hist_sold    | 340                  \n",
      "-RECORD 21---------------------------\n",
      " item_id      | 19795481090          \n",
      " name         | grosir /produsen ... \n",
      " cat_name     | makanan & minuman    \n",
      " sub_name     | makanan ringan       \n",
      " sub_sub_name | biji-bijian          \n",
      " sold         | 4010                 \n",
      " hist_sold    | 20100                \n",
      "-RECORD 22---------------------------\n",
      " item_id      | 30347820             \n",
      " name         | 500gram mede roas... \n",
      " cat_name     | makanan & minuman    \n",
      " sub_name     | makanan ringan       \n",
      " sub_sub_name | kacang               \n",
      " sold         | 3710                 \n",
      " hist_sold    | 62900                \n",
      "-RECORD 23---------------------------\n",
      " item_id      | 57172575790          \n",
      " name         | manisan pepaya       \n",
      " cat_name     | makanan & minuman    \n",
      " sub_name     | makanan ringan       \n",
      " sub_sub_name | buah kering          \n",
      " sold         | 120                  \n",
      " hist_sold    | 190                  \n",
      "-RECORD 24---------------------------\n",
      " item_id      | 70332935890          \n",
      " name         | tempe                \n",
      " cat_name     | makanan & minuman    \n",
      " sub_name     | makanan ringan       \n",
      " sub_sub_name | makanan ringan la... \n",
      " sold         | 10                   \n",
      " hist_sold    | 10                   \n",
      "-RECORD 25---------------------------\n",
      " item_id      | 4511266970           \n",
      " name         | natural raw almon... \n",
      " cat_name     | makanan & minuman    \n",
      " sub_name     | makanan ringan       \n",
      " sub_sub_name | kacang               \n",
      " sold         | 1460                 \n",
      " hist_sold    | 8290                 \n",
      "-RECORD 26---------------------------\n",
      " item_id      | 37314713890          \n",
      " name         | manisan pepaya ke... \n",
      " cat_name     | makanan & minuman    \n",
      " sub_name     | makanan ringan       \n",
      " sub_sub_name | makanan ringan la... \n",
      " sold         | 120                  \n",
      " hist_sold    | 130                  \n",
      "-RECORD 27---------------------------\n",
      " item_id      | 46162926900          \n",
      " name         | [sayursegar] keru... \n",
      " cat_name     | makanan & minuman    \n",
      " sub_name     | makanan ringan       \n",
      " sub_sub_name | makanan ringan la... \n",
      " sold         | 20                   \n",
      " hist_sold    | 30                   \n",
      "-RECORD 28---------------------------\n",
      " item_id      | 50294068170          \n",
      " name         | kering tempe teri... \n",
      " cat_name     | makanan & minuman    \n",
      " sub_name     | makanan ringan       \n",
      " sub_sub_name | kacang               \n",
      " sold         | 10                   \n",
      " hist_sold    | 20                   \n",
      "-RECORD 29---------------------------\n",
      " item_id      | 13857469540          \n",
      " name         | 1kg kacang mede s... \n",
      " cat_name     | makanan & minuman    \n",
      " sub_name     | makanan ringan       \n",
      " sub_sub_name | kacang               \n",
      " sold         | 3370                 \n",
      " hist_sold    | 19570                \n",
      "only showing top 30 rows\n",
      "\n"
     ]
    }
   ],
   "source": [
    "df_submakanan = df.filter((df.sub_name == \"makanan ringan\")) \n",
    "df_submakanan.show(30,vertical=True)"
   ]
  },
  {
   "cell_type": "code",
   "execution_count": 16,
   "id": "250739a6",
   "metadata": {},
   "outputs": [
    {
     "name": "stdout",
     "output_type": "stream",
     "text": [
      "+--------------------+-----+\n",
      "|        sub_sub_name|count|\n",
      "+--------------------+-----+\n",
      "|   keripik & kerupuk| 4411|\n",
      "|biskuit & kue kering| 2180|\n",
      "|              kacang| 2138|\n",
      "|makanan ringan la...| 1074|\n",
      "|makanan ringan ma...|  378|\n",
      "|makanan ringan as...|  338|\n",
      "|         biji-bijian|  206|\n",
      "|         buah kering|  113|\n",
      "|      makanan ringan|   34|\n",
      "+--------------------+-----+\n",
      "\n"
     ]
    }
   ],
   "source": [
    "df4 = df_submakanan.groupBy(\"sub_sub_name\")\\\n",
    "              .count()\\\n",
    "              .orderBy('count',ascending=False)\n",
    "df4.show()"
   ]
  },
  {
   "cell_type": "code",
   "execution_count": 17,
   "id": "d502d58a",
   "metadata": {},
   "outputs": [
    {
     "name": "stdout",
     "output_type": "stream",
     "text": [
      "-RECORD 0----------------------------\n",
      " item_id      | 76270784310          \n",
      " name         | manbar - cangkang... \n",
      " cat_name     | hobi & koleksi       \n",
      " sub_name     | kerajinan tangan     \n",
      " sub_sub_name | diy                  \n",
      " sold         | 20                   \n",
      " hist_sold    | 20                   \n",
      "-RECORD 1----------------------------\n",
      " item_id      | 5918771200           \n",
      " name         | kode a13-30 ice c... \n",
      " cat_name     | hobi & koleksi       \n",
      " sub_name     | kerajinan tangan     \n",
      " sub_sub_name | diy                  \n",
      " sold         | 0                    \n",
      " hist_sold    | 220                  \n",
      "-RECORD 2----------------------------\n",
      " item_id      | 22866583110          \n",
      " name         | 6 pcs aplikasi ic... \n",
      " cat_name     | hobi & koleksi       \n",
      " sub_name     | kerajinan tangan     \n",
      " sub_sub_name | diy                  \n",
      " sold         | 0                    \n",
      " hist_sold    | 90                   \n",
      "-RECORD 3----------------------------\n",
      " item_id      | 18868576380          \n",
      " name         | resin flat melody... \n",
      " cat_name     | hobi & koleksi       \n",
      " sub_name     | kerajinan tangan     \n",
      " sub_sub_name | diy                  \n",
      " sold         | 0                    \n",
      " hist_sold    | 120                  \n",
      "-RECORD 4----------------------------\n",
      " item_id      | 4841626280           \n",
      " name         | gg motif ice crea... \n",
      " cat_name     | hobi & koleksi       \n",
      " sub_name     | kerajinan tangan     \n",
      " sub_sub_name | diy                  \n",
      " sold         | 0                    \n",
      " hist_sold    | 100                  \n",
      "only showing top 5 rows\n",
      "\n"
     ]
    }
   ],
   "source": [
    "df_label = df.filter((df.sub_name == \"kerajinan tangan\")) \n",
    "df_label.show(5,vertical=True)"
   ]
  },
  {
   "cell_type": "code",
   "execution_count": 18,
   "id": "80ae819e",
   "metadata": {},
   "outputs": [],
   "source": [
    "# df_label.write.options(header='True', delimiter=',') \\\n",
    "#  .csv(\"E:/SKRIPSI/ShopeeLabel/26kerajinantangan.csv\")"
   ]
  },
  {
   "cell_type": "code",
   "execution_count": 19,
   "id": "635013de",
   "metadata": {},
   "outputs": [],
   "source": [
    "cek = df.filter((df.name).contains(\"karpet\"))\n",
    "cek.show(30,vertical=True)"
   ]
  },
  {
   "cell_type": "code",
   "execution_count": null,
   "id": "48ea6d21",
   "metadata": {},
   "outputs": [],
   "source": []
  },
  {
   "cell_type": "code",
   "execution_count": null,
   "id": "55fa3bdf",
   "metadata": {},
   "outputs": [],
   "source": []
  }
 ],
 "metadata": {
  "kernelspec": {
   "display_name": "Python 3 (ipykernel)",
   "language": "python",
   "name": "python3"
  },
  "language_info": {
   "codemirror_mode": {
    "name": "ipython",
    "version": 3
   },
   "file_extension": ".py",
   "mimetype": "text/x-python",
   "name": "python",
   "nbconvert_exporter": "python",
   "pygments_lexer": "ipython3",
   "version": "3.9.13"
  }
 },
 "nbformat": 4,
 "nbformat_minor": 5
}

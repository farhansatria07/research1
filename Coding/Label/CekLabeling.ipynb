{
 "cells": [
  {
   "cell_type": "code",
   "execution_count": 1,
   "id": "22d609c7",
   "metadata": {},
   "outputs": [],
   "source": [
    "import pandas as pd"
   ]
  },
  {
   "cell_type": "code",
   "execution_count": 2,
   "id": "85d54bed",
   "metadata": {},
   "outputs": [
    {
     "data": {
      "text/html": [
       "<div>\n",
       "<style scoped>\n",
       "    .dataframe tbody tr th:only-of-type {\n",
       "        vertical-align: middle;\n",
       "    }\n",
       "\n",
       "    .dataframe tbody tr th {\n",
       "        vertical-align: top;\n",
       "    }\n",
       "\n",
       "    .dataframe thead th {\n",
       "        text-align: right;\n",
       "    }\n",
       "</style>\n",
       "<table border=\"1\" class=\"dataframe\">\n",
       "  <thead>\n",
       "    <tr style=\"text-align: right;\">\n",
       "      <th></th>\n",
       "      <th>ProductName</th>\n",
       "      <th>Category</th>\n",
       "    </tr>\n",
       "  </thead>\n",
       "  <tbody>\n",
       "    <tr>\n",
       "      <th>0</th>\n",
       "      <td>1 pack benih rumput kucing cat grass seeds 50 ...</td>\n",
       "      <td>1</td>\n",
       "    </tr>\n",
       "    <tr>\n",
       "      <th>1</th>\n",
       "      <td>1 pack biji cherry tomato mix color yellow red</td>\n",
       "      <td>1</td>\n",
       "    </tr>\n",
       "    <tr>\n",
       "      <th>2</th>\n",
       "      <td>1 pack biji maica leaf benih pacar air impatie...</td>\n",
       "      <td>1</td>\n",
       "    </tr>\n",
       "    <tr>\n",
       "      <th>3</th>\n",
       "      <td>1 pack biji tanaman bunga tulip mix color maic...</td>\n",
       "      <td>1</td>\n",
       "    </tr>\n",
       "    <tr>\n",
       "      <th>4</th>\n",
       "      <td>1 pack biji tanaman parsley peterseli maica le...</td>\n",
       "      <td>1</td>\n",
       "    </tr>\n",
       "    <tr>\n",
       "      <th>...</th>\n",
       "      <td>...</td>\n",
       "      <td>...</td>\n",
       "    </tr>\n",
       "    <tr>\n",
       "      <th>22358</th>\n",
       "      <td>vegetable mix 4 way sayuran 4 jenis 1kg 1 kg</td>\n",
       "      <td>1</td>\n",
       "    </tr>\n",
       "    <tr>\n",
       "      <th>22359</th>\n",
       "      <td>frozen mixed vegetables vegetables mix 4 ways ...</td>\n",
       "      <td>1</td>\n",
       "    </tr>\n",
       "    <tr>\n",
       "      <th>22360</th>\n",
       "      <td>mix vege vegetable sayur sayuran beku 500 gram...</td>\n",
       "      <td>1</td>\n",
       "    </tr>\n",
       "    <tr>\n",
       "      <th>22361</th>\n",
       "      <td>sayur kailan fresh vegetable hydroponic pestic...</td>\n",
       "      <td>1</td>\n",
       "    </tr>\n",
       "    <tr>\n",
       "      <th>22362</th>\n",
       "      <td>mixed vegetable sayuran untuk steak merk golde...</td>\n",
       "      <td>1</td>\n",
       "    </tr>\n",
       "  </tbody>\n",
       "</table>\n",
       "<p>22363 rows × 2 columns</p>\n",
       "</div>"
      ],
      "text/plain": [
       "                                             ProductName  Category\n",
       "0      1 pack benih rumput kucing cat grass seeds 50 ...         1\n",
       "1         1 pack biji cherry tomato mix color yellow red         1\n",
       "2      1 pack biji maica leaf benih pacar air impatie...         1\n",
       "3      1 pack biji tanaman bunga tulip mix color maic...         1\n",
       "4      1 pack biji tanaman parsley peterseli maica le...         1\n",
       "...                                                  ...       ...\n",
       "22358       vegetable mix 4 way sayuran 4 jenis 1kg 1 kg         1\n",
       "22359  frozen mixed vegetables vegetables mix 4 ways ...         1\n",
       "22360  mix vege vegetable sayur sayuran beku 500 gram...         1\n",
       "22361  sayur kailan fresh vegetable hydroponic pestic...         1\n",
       "22362  mixed vegetable sayuran untuk steak merk golde...         1\n",
       "\n",
       "[22363 rows x 2 columns]"
      ]
     },
     "execution_count": 2,
     "metadata": {},
     "output_type": "execute_result"
    }
   ],
   "source": [
    "#ReadData\n",
    "dt = pd.read_excel(\"LabelTokopedia.xlsx\")\n",
    "dt"
   ]
  },
  {
   "cell_type": "code",
   "execution_count": 3,
   "id": "a6a68238",
   "metadata": {},
   "outputs": [],
   "source": [
    "dt['Category'] = dt['Category'].astype(int)"
   ]
  },
  {
   "cell_type": "code",
   "execution_count": 12,
   "id": "33b75d40",
   "metadata": {},
   "outputs": [
    {
     "name": "stderr",
     "output_type": "stream",
     "text": [
      "C:\\Users\\WIN10\\anaconda3\\lib\\site-packages\\seaborn\\_decorators.py:36: FutureWarning: Pass the following variables as keyword args: x, y. From version 0.12, the only valid positional argument will be `data`, and passing other arguments without an explicit keyword will result in an error or misinterpretation.\n",
      "  warnings.warn(\n"
     ]
    },
    {
     "data": {
      "image/png": "[encoded data removed]",
      "text/plain": [
       "<Figure size 1000x500 with 1 Axes>"
      ]
     },
     "metadata": {},
     "output_type": "display_data"
    }
   ],
   "source": [
    "import matplotlib.pyplot as plt\n",
    "import seaborn as sns\n",
    "\n",
    "# Count class frequency\n",
    "class_freq = dt['Category'].value_counts()\n",
    "\n",
    "# Visualize class imbalance using bar plot\n",
    "plt.figure(figsize=(10, 5))\n",
    "sns.barplot(class_freq.index, class_freq.values, alpha=0.8)\n",
    "plt.title('Hasil Pelabelan Tokopedia')\n",
    "plt.xlabel('Category')\n",
    "plt.xticks(rotation=90, ha='right')\n",
    "plt.ylabel('Frequency')\n",
    "plt.show()"
   ]
  },
  {
   "cell_type": "code",
   "execution_count": 15,
   "id": "517568be",
   "metadata": {},
   "outputs": [
    {
     "data": {
      "text/plain": [
       "23    2423\n",
       "47    1632\n",
       "35    1621\n",
       "28    1535\n",
       "27    1485\n",
       "45    1443\n",
       "38    1389\n",
       "1     1164\n",
       "21     992\n",
       "36     843\n",
       "29     824\n",
       "48     771\n",
       "49     679\n",
       "22     679\n",
       "46     605\n",
       "32     582\n",
       "44     568\n",
       "43     530\n",
       "24     482\n",
       "2      407\n",
       "31     344\n",
       "37     305\n",
       "16     284\n",
       "26     270\n",
       "42     261\n",
       "4      245\n",
       "Name: Category, dtype: int64"
      ]
     },
     "execution_count": 15,
     "metadata": {},
     "output_type": "execute_result"
    }
   ],
   "source": [
    "dt['Category'].value_counts()"
   ]
  },
  {
   "cell_type": "code",
   "execution_count": 6,
   "id": "4a539a03",
   "metadata": {},
   "outputs": [
    {
     "data": {
      "text/html": [
       "<div>\n",
       "<style scoped>\n",
       "    .dataframe tbody tr th:only-of-type {\n",
       "        vertical-align: middle;\n",
       "    }\n",
       "\n",
       "    .dataframe tbody tr th {\n",
       "        vertical-align: top;\n",
       "    }\n",
       "\n",
       "    .dataframe thead th {\n",
       "        text-align: right;\n",
       "    }\n",
       "</style>\n",
       "<table border=\"1\" class=\"dataframe\">\n",
       "  <thead>\n",
       "    <tr style=\"text-align: right;\">\n",
       "      <th></th>\n",
       "      <th>Nama</th>\n",
       "      <th>Label</th>\n",
       "    </tr>\n",
       "  </thead>\n",
       "  <tbody>\n",
       "    <tr>\n",
       "      <th>0</th>\n",
       "      <td>10 gram  benih kacang panjang repack</td>\n",
       "      <td>1</td>\n",
       "    </tr>\n",
       "    <tr>\n",
       "      <th>1</th>\n",
       "      <td>10 gram  benih labu parang</td>\n",
       "      <td>1</td>\n",
       "    </tr>\n",
       "    <tr>\n",
       "      <th>2</th>\n",
       "      <td>cod] cabe rawit shypoon cabe berangkai - cabe...</td>\n",
       "      <td>1</td>\n",
       "    </tr>\n",
       "    <tr>\n",
       "      <th>3</th>\n",
       "      <td>cod] shypoon - cabai rawit berangkai 150 biji...</td>\n",
       "      <td>1</td>\n",
       "    </tr>\n",
       "    <tr>\n",
       "      <th>4</th>\n",
       "      <td>( 50gr )benih kacang panjang unggul sabrina - ...</td>\n",
       "      <td>1</td>\n",
       "    </tr>\n",
       "    <tr>\n",
       "      <th>...</th>\n",
       "      <td>...</td>\n",
       "      <td>...</td>\n",
       "    </tr>\n",
       "    <tr>\n",
       "      <th>10767</th>\n",
       "      <td>sarung bantal cinta katun renda rumbai sarung ...</td>\n",
       "      <td>27</td>\n",
       "    </tr>\n",
       "    <tr>\n",
       "      <th>10768</th>\n",
       "      <td>shafiyyah.sarban sarung bantal lantai 70x70 ed...</td>\n",
       "      <td>27</td>\n",
       "    </tr>\n",
       "    <tr>\n",
       "      <th>10769</th>\n",
       "      <td>bantal boneka 5 in 1 motif doraemon warna biru...</td>\n",
       "      <td>27</td>\n",
       "    </tr>\n",
       "    <tr>\n",
       "      <th>10770</th>\n",
       "      <td>bantal leher jok mobil plus sarung belt klub b...</td>\n",
       "      <td>27</td>\n",
       "    </tr>\n",
       "    <tr>\n",
       "      <th>10771</th>\n",
       "      <td>bantal leher jok mobil plus sarung belt klub b...</td>\n",
       "      <td>27</td>\n",
       "    </tr>\n",
       "  </tbody>\n",
       "</table>\n",
       "<p>10772 rows × 2 columns</p>\n",
       "</div>"
      ],
      "text/plain": [
       "                                                    Nama  Label\n",
       "0                   10 gram  benih kacang panjang repack      1\n",
       "1                             10 gram  benih labu parang      1\n",
       "2       cod] cabe rawit shypoon cabe berangkai - cabe...      1\n",
       "3       cod] shypoon - cabai rawit berangkai 150 biji...      1\n",
       "4      ( 50gr )benih kacang panjang unggul sabrina - ...      1\n",
       "...                                                  ...    ...\n",
       "10767  sarung bantal cinta katun renda rumbai sarung ...     27\n",
       "10768  shafiyyah.sarban sarung bantal lantai 70x70 ed...     27\n",
       "10769  bantal boneka 5 in 1 motif doraemon warna biru...     27\n",
       "10770  bantal leher jok mobil plus sarung belt klub b...     27\n",
       "10771  bantal leher jok mobil plus sarung belt klub b...     27\n",
       "\n",
       "[10772 rows x 2 columns]"
      ]
     },
     "execution_count": 6,
     "metadata": {},
     "output_type": "execute_result"
    }
   ],
   "source": [
    "#ReadData\n",
    "df = pd.read_excel(\"LabelShopee.xlsx\")\n",
    "df"
   ]
  },
  {
   "cell_type": "code",
   "execution_count": 7,
   "id": "71b3e06a",
   "metadata": {},
   "outputs": [
    {
     "name": "stderr",
     "output_type": "stream",
     "text": [
      "C:\\Users\\WIN10\\anaconda3\\lib\\site-packages\\seaborn\\_decorators.py:36: FutureWarning: Pass the following variables as keyword args: x, y. From version 0.12, the only valid positional argument will be `data`, and passing other arguments without an explicit keyword will result in an error or misinterpretation.\n",
      "  warnings.warn(\n"
     ]
    },
    {
     "data": {
      "image/png": "[encoded data removed]",
      "text/plain": [
       "<Figure size 1000x500 with 1 Axes>"
      ]
     },
     "metadata": {},
     "output_type": "display_data"
    }
   ],
   "source": [
    "import matplotlib.pyplot as plt\n",
    "import seaborn as sns\n",
    "\n",
    "# Count class frequency\n",
    "class_freq = df['Label'].value_counts()\n",
    "\n",
    "# Visualize class imbalance using bar plot\n",
    "plt.figure(figsize=(10, 5))\n",
    "sns.barplot(class_freq.index, class_freq.values, alpha=0.8)\n",
    "plt.title('Hasil Labelling Shopee')\n",
    "plt.xlabel('Category')\n",
    "plt.ylabel('Frequency')\n",
    "plt.show()"
   ]
  },
  {
   "cell_type": "code",
   "execution_count": 16,
   "id": "b55364d7",
   "metadata": {},
   "outputs": [
    {
     "data": {
      "text/plain": [
       "38    1048\n",
       "1     1008\n",
       "23     908\n",
       "35     643\n",
       "44     618\n",
       "21     612\n",
       "16     580\n",
       "36     504\n",
       "29     476\n",
       "32     474\n",
       "27     472\n",
       "28     432\n",
       "45     392\n",
       "48     380\n",
       "22     315\n",
       "47     307\n",
       "26     250\n",
       "24     244\n",
       "37     221\n",
       "46     213\n",
       "42     163\n",
       "49     161\n",
       "2      117\n",
       "31      92\n",
       "43      88\n",
       "4       54\n",
       "Name: Label, dtype: int64"
      ]
     },
     "execution_count": 16,
     "metadata": {},
     "output_type": "execute_result"
    }
   ],
   "source": [
    " df['Label'].value_counts()"
   ]
  },
  {
   "cell_type": "code",
   "execution_count": 9,
   "id": "987cb661",
   "metadata": {},
   "outputs": [
    {
     "data": {
      "text/html": [
       "<div>\n",
       "<style scoped>\n",
       "    .dataframe tbody tr th:only-of-type {\n",
       "        vertical-align: middle;\n",
       "    }\n",
       "\n",
       "    .dataframe tbody tr th {\n",
       "        vertical-align: top;\n",
       "    }\n",
       "\n",
       "    .dataframe thead th {\n",
       "        text-align: right;\n",
       "    }\n",
       "</style>\n",
       "<table border=\"1\" class=\"dataframe\">\n",
       "  <thead>\n",
       "    <tr style=\"text-align: right;\">\n",
       "      <th></th>\n",
       "      <th>ProductName</th>\n",
       "      <th>Category</th>\n",
       "    </tr>\n",
       "  </thead>\n",
       "  <tbody>\n",
       "    <tr>\n",
       "      <th>0</th>\n",
       "      <td>1 pack benih rumput kucing cat grass seeds 50 ...</td>\n",
       "      <td>1</td>\n",
       "    </tr>\n",
       "    <tr>\n",
       "      <th>1</th>\n",
       "      <td>1 pack biji cherry tomato mix color yellow red</td>\n",
       "      <td>1</td>\n",
       "    </tr>\n",
       "    <tr>\n",
       "      <th>2</th>\n",
       "      <td>1 pack biji maica leaf benih pacar air impatie...</td>\n",
       "      <td>1</td>\n",
       "    </tr>\n",
       "    <tr>\n",
       "      <th>3</th>\n",
       "      <td>1 pack biji tanaman bunga tulip mix color maic...</td>\n",
       "      <td>1</td>\n",
       "    </tr>\n",
       "    <tr>\n",
       "      <th>4</th>\n",
       "      <td>1 pack biji tanaman parsley peterseli maica le...</td>\n",
       "      <td>1</td>\n",
       "    </tr>\n",
       "    <tr>\n",
       "      <th>...</th>\n",
       "      <td>...</td>\n",
       "      <td>...</td>\n",
       "    </tr>\n",
       "    <tr>\n",
       "      <th>32927</th>\n",
       "      <td>sarung bantal cinta katun renda rumbai sarung ...</td>\n",
       "      <td>27</td>\n",
       "    </tr>\n",
       "    <tr>\n",
       "      <th>32928</th>\n",
       "      <td>shafiyyah.sarban sarung bantal lantai 70x70 ed...</td>\n",
       "      <td>27</td>\n",
       "    </tr>\n",
       "    <tr>\n",
       "      <th>32929</th>\n",
       "      <td>bantal boneka 5 in 1 motif doraemon warna biru...</td>\n",
       "      <td>27</td>\n",
       "    </tr>\n",
       "    <tr>\n",
       "      <th>32930</th>\n",
       "      <td>bantal leher jok mobil plus sarung belt klub b...</td>\n",
       "      <td>27</td>\n",
       "    </tr>\n",
       "    <tr>\n",
       "      <th>32931</th>\n",
       "      <td>bantal leher jok mobil plus sarung belt klub b...</td>\n",
       "      <td>27</td>\n",
       "    </tr>\n",
       "  </tbody>\n",
       "</table>\n",
       "<p>32932 rows × 2 columns</p>\n",
       "</div>"
      ],
      "text/plain": [
       "                                             ProductName  Category\n",
       "0      1 pack benih rumput kucing cat grass seeds 50 ...         1\n",
       "1         1 pack biji cherry tomato mix color yellow red         1\n",
       "2      1 pack biji maica leaf benih pacar air impatie...         1\n",
       "3      1 pack biji tanaman bunga tulip mix color maic...         1\n",
       "4      1 pack biji tanaman parsley peterseli maica le...         1\n",
       "...                                                  ...       ...\n",
       "32927  sarung bantal cinta katun renda rumbai sarung ...        27\n",
       "32928  shafiyyah.sarban sarung bantal lantai 70x70 ed...        27\n",
       "32929  bantal boneka 5 in 1 motif doraemon warna biru...        27\n",
       "32930  bantal leher jok mobil plus sarung belt klub b...        27\n",
       "32931  bantal leher jok mobil plus sarung belt klub b...        27\n",
       "\n",
       "[32932 rows x 2 columns]"
      ]
     },
     "execution_count": 9,
     "metadata": {},
     "output_type": "execute_result"
    }
   ],
   "source": [
    "#ReadData\n",
    "dc = pd.read_excel(\"LabelCampuran.xlsx\")\n",
    "dc"
   ]
  },
  {
   "cell_type": "code",
   "execution_count": 10,
   "id": "ed6e04b3",
   "metadata": {},
   "outputs": [
    {
     "data": {
      "text/plain": [
       "ProductName    32932\n",
       "Category       32932\n",
       "dtype: int64"
      ]
     },
     "execution_count": 10,
     "metadata": {},
     "output_type": "execute_result"
    }
   ],
   "source": [
    "dc.count()"
   ]
  },
  {
   "cell_type": "code",
   "execution_count": 11,
   "id": "0b94ed07",
   "metadata": {},
   "outputs": [
    {
     "name": "stderr",
     "output_type": "stream",
     "text": [
      "C:\\Users\\WIN10\\anaconda3\\lib\\site-packages\\seaborn\\_decorators.py:36: FutureWarning: Pass the following variables as keyword args: x, y. From version 0.12, the only valid positional argument will be `data`, and passing other arguments without an explicit keyword will result in an error or misinterpretation.\n",
      "  warnings.warn(\n"
     ]
    },
    {
     "data": {
      "image/png": "[encoded data removed]",
      "text/plain": [
       "<Figure size 1000x500 with 1 Axes>"
      ]
     },
     "metadata": {},
     "output_type": "display_data"
    }
   ],
   "source": [
    "import matplotlib.pyplot as plt\n",
    "import seaborn as sns\n",
    "\n",
    "# Count class frequency\n",
    "class_freq = dc['Category'].value_counts()\n",
    "\n",
    "# Visualize class imbalance using bar plot\n",
    "plt.figure(figsize=(10, 5))\n",
    "sns.barplot(class_freq.index, class_freq.values, alpha=0.8)\n",
    "plt.title('Hasil Labelling Campuran')\n",
    "plt.xlabel('Category')\n",
    "plt.ylabel('Frequency')\n",
    "plt.show()"
   ]
  }
 ],
 "metadata": {
  "kernelspec": {
   "display_name": "Python 3 (ipykernel)",
   "language": "python",
   "name": "python3"
  },
  "language_info": {
   "codemirror_mode": {
    "name": "ipython",
    "version": 3
   },
   "file_extension": ".py",
   "mimetype": "text/x-python",
   "name": "python",
   "nbconvert_exporter": "python",
   "pygments_lexer": "ipython3",
   "version": "3.9.13"
  }
 },
 "nbformat": 4,
 "nbformat_minor": 5
}
